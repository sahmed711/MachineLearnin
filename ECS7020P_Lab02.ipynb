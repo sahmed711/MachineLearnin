{
  "nbformat": 4,
  "nbformat_minor": 0,
  "metadata": {
    "colab": {
      "provenance": []
    },
    "kernelspec": {
      "name": "python3",
      "display_name": "Python 3"
    }
  },
  "cells": [
    {
      "cell_type": "markdown",
      "metadata": {
        "id": "j7ydQ_OTchpE"
      },
      "source": [
        "# Lab 2: Representing data in Python\n",
        "\n",
        "Machine learning provides us with tools to extract knowledge from **data**. To build and deploy a machine learning solution, our data science computing environment needs to be able to **represent** our data and has to provide **methods** to manipulate and process that data. Specifically, our data science environment needs to be able to efficiently represent and process **datasets**, i.e. collections of items described by a set of attributes.\n",
        "\n",
        "In this lab, we will explore different options to represent data and datasets in Python. We will refer to them as **data types**. In addition to the basic built-in types, we will discuss data types defined by two third-party specialised libraries, namely **NumPy** and **Pandas**.\n",
        "\n",
        "Once you complete this lab, go ahead and attempt the corresponding QM+ quiz."
      ]
    },
    {
      "cell_type": "markdown",
      "metadata": {
        "id": "JdC-n2a72IYR"
      },
      "source": [
        "# Basic data types\n",
        "\n",
        "Let's start considering two Python **numeric** types, namely ```int``` (for integer numbers) and ```float``` (for real numbers). Numeric types can be used to represent measurements and other quantities, and support operations such as addition (```+```), subtraction (```-```), multiplication (```*```) and division (```/```), among others. Run the following cell to perform some simple calculation on numeric variables.\n",
        "\n"
      ]
    },
    {
      "cell_type": "code",
      "metadata": {
        "id": "Jj3rRRV3ccd0",
        "colab": {
          "base_uri": "https://localhost:8080/"
        },
        "outputId": "fcd37cdf-e860-4311-d7e6-1c5291812a2f"
      },
      "source": [
        "a = 2\n",
        "b = 4\n",
        "add_a_b = a+b\n",
        "mult_a_b = a*b\n",
        "print(\"a + b =\", add_a_b)\n",
        "print(\"a * b =\", mult_a_b)"
      ],
      "execution_count": null,
      "outputs": [
        {
          "output_type": "stream",
          "name": "stdout",
          "text": [
            "a + b = 6\n",
            "a * b = 8\n"
          ]
        }
      ]
    },
    {
      "cell_type": "markdown",
      "metadata": {
        "id": "-h21E1_n9zOy"
      },
      "source": [
        "The `bool` type (**boolean**) can take on two values (`True` or `False`) and supports three basic operations, namely `and`, `or` and `not`. Comparison operators (`==`, `>`, `<`, etc) return boolean values, as illustrated in the following code cell:\n",
        "\n"
      ]
    },
    {
      "cell_type": "code",
      "metadata": {
        "id": "0yFdTA7s_s0D",
        "colab": {
          "base_uri": "https://localhost:8080/"
        },
        "outputId": "40c0fdb4-3c6c-4897-cd8e-f13ad32119c5"
      },
      "source": [
        "c = 3.1\n",
        "d = 4.7\n",
        "print(\"Is c equal to d?\", c == d)\n",
        "print(\"Is c less than d?\", c < d)\n",
        "print(\"Is c equal to and at the same time less than d?\", (c==d)and(c<d))"
      ],
      "execution_count": null,
      "outputs": [
        {
          "output_type": "stream",
          "name": "stdout",
          "text": [
            "Is c equal to d? False\n",
            "Is c less than d? True\n",
            "Is c equal to and at the same time less than d? False\n"
          ]
        }
      ]
    },
    {
      "cell_type": "markdown",
      "metadata": {
        "id": "FEnv_anJBdGZ"
      },
      "source": [
        "Finally, text data can be represented as strings (`str` type) in Python. They are defined surrounding the text value by single or double quotation marks:"
      ]
    },
    {
      "cell_type": "code",
      "metadata": {
        "id": "DijSlMX7WwbL",
        "colab": {
          "base_uri": "https://localhost:8080/"
        },
        "outputId": "0461928d-f555-4bc2-a72c-54797f3c130c"
      },
      "source": [
        "e = \"This is a string\"\n",
        "print(e)"
      ],
      "execution_count": null,
      "outputs": [
        {
          "output_type": "stream",
          "name": "stdout",
          "text": [
            "This is a string\n"
          ]
        }
      ]
    },
    {
      "cell_type": "markdown",
      "metadata": {
        "id": "i8zBmJN1z1HR"
      },
      "source": [
        "Numeric, boolean and string types are the basic building blocks to create more complex data types."
      ]
    },
    {
      "cell_type": "markdown",
      "metadata": {
        "id": "x8Udy41sW6WT"
      },
      "source": [
        "# Sequence types\n",
        "\n",
        "The string type is a Python sequence. Sequences are ordered collections and can be used to represent a **complex attribute** (such as text), an **item** described by several attributes or even a **whole dataset**. As we shall see later, there are other options that might be more suitable to represent complex attributes and whole datasets, however it is important to be familiar with sequences.\n",
        "\n",
        "In addition to strings, Python offers other sequence types. We will cover Python **lists** here. Lists are defined as elements separated by commas between square brackets and can **indexed** and **sliced**:\n",
        "- Indexing retrieves one element in a list. Given a list `s`, the `i`-th element can be retrived by typing `s[i]`. Note that the index of the first element in a list is 0.\n",
        "- Slicing returns a subset of elements from the list. Typing `s[i:j:k]` returns a list of elements starting from index `i` to `j` (excluding `j`) with step `k`.\n",
        "\n",
        "The following code cell illustrates indexing and slicing."
      ]
    },
    {
      "cell_type": "code",
      "metadata": {
        "id": "zN2v_32gZdG-",
        "colab": {
          "base_uri": "https://localhost:8080/"
        },
        "outputId": "ebf26961-6b5d-4217-f305-1dd1a8ecc14e"
      },
      "source": [
        "squares = [1, 2, 4, 9, 16, 25]\n",
        "print(\"My list of squares is is: \", squares)\n",
        "print(\"The first square is: \", squares[0]) #Example of indexing: 0 is the index of the first element in the list\n",
        "print(\"The second square is: \", squares[1]) #Example of indexing: 1 is the index of the second element in the list\n",
        "print(\"The first three squares are: \", squares[0:3]) #Example of slicing: we extract the elements with indices 0 to 2 (i.e. 3-1)"
      ],
      "execution_count": null,
      "outputs": [
        {
          "output_type": "stream",
          "name": "stdout",
          "text": [
            "My list of squares is is:  [1, 2, 4, 9, 16, 25]\n",
            "The first square is:  1\n",
            "The second square is:  2\n",
            "The first three squares are:  [1, 2, 4]\n"
          ]
        }
      ]
    },
    {
      "cell_type": "markdown",
      "metadata": {
        "id": "EpXLBF0LzQQN"
      },
      "source": [
        "We can also create lists of lists. This feature can be used to represent a dataset, i.e. a collection (list) of items described by a collection (list) of attributes. Indexing and slicing can be used to extract individual items and single attributes from one item."
      ]
    },
    {
      "cell_type": "code",
      "metadata": {
        "id": "8N-JddIVzo2A",
        "colab": {
          "base_uri": "https://localhost:8080/"
        },
        "outputId": "d8aae09e-9c94-440a-8718-1bc7bf308e4f"
      },
      "source": [
        "item1 = ['Individual A', 1, 100] #Item described by three attributes\n",
        "item2 = ['Individual B', 2, 200]\n",
        "item3 = ['Individual C', 3, 300]\n",
        "item4 = ['Individual D', 4, 400]\n",
        "\n",
        "MyDataset = [item1, item2, item3, item4] #Dataset consisting of 4 items\n",
        "\n",
        "print(\"My dataset is:\\n\", MyDataset) #Prints the whole dataset\n",
        "\n",
        "print(\"\\nThe second and third items in my dataset are:\\n\", MyDataset[1:3]) #Prints items with indices 1 to 2 (3-1)\n",
        "\n",
        "print(\"\\nThe second attribute of the third item is: \", MyDataset[2][1]) #Prints the second attribute of the third item\n",
        "\n",
        "MyDataset[1][1] = 5 #Sets the second attribute of the seconf item to 5\n",
        "\n",
        "print(\"\\nAfter updating, my dataset is:\\n\", MyDataset) #Prints the whole dataset\n"
      ],
      "execution_count": null,
      "outputs": [
        {
          "output_type": "stream",
          "name": "stdout",
          "text": [
            "My dataset is:\n",
            " [['Individual A', 1, 100], ['Individual B', 2, 200], ['Individual C', 3, 300], ['Individual D', 4, 400]]\n",
            "\n",
            "The second and third items in my dataset are:\n",
            " [['Individual B', 2, 200], ['Individual C', 3, 300]]\n",
            "\n",
            "The second attribute of the third item is:  3\n",
            "\n",
            "After updating, my dataset is:\n",
            " [['Individual A', 1, 100], ['Individual B', 5, 200], ['Individual C', 3, 300], ['Individual D', 4, 400]]\n"
          ]
        }
      ]
    },
    {
      "cell_type": "markdown",
      "metadata": {
        "id": "AjkXhUn-2j7X"
      },
      "source": [
        "Standard Python lists lack many operations and constraints needed to efficiently and safely build machine learning solutions. Therefore in most cases we will use data types defined by NumPy and Pandas."
      ]
    },
    {
      "cell_type": "markdown",
      "metadata": {
        "id": "b47UGO85BRXM"
      },
      "source": [
        "# NumPy\n",
        "\n",
        "NumPy is the fundamental Python library for numerical computing. The core of NumPy is the `ndarray`, a **multidimensional array** (grid of values) that comes with a set of efficiently implemented array operations. Each dimension in an `ndarray` is known as axis. A 1D NumPy array has one axis and represents a vector, a 2D NumPy array has two axis and represents a matrix, a 3D NumPy array represents a 3-tensor, etc.\n",
        "\n",
        "In order to use NumPy, we need to import it first."
      ]
    },
    {
      "cell_type": "code",
      "metadata": {
        "id": "oeTwWef_Ear6"
      },
      "source": [
        "import numpy as np"
      ],
      "execution_count": null,
      "outputs": []
    },
    {
      "cell_type": "markdown",
      "metadata": {
        "id": "O8IXCwvdEWdd"
      },
      "source": [
        "\n",
        "\n",
        "In contrast to standard Python lists, NumPy arrays have a **fixed size** at creation and their elements need to be of the **same type**. There are several ways to create NumPy arrays. The easiest one is to use the `array` function on a standard Python list. In the following example, we create a 1D NumPy array consisting of integer elements."
      ]
    },
    {
      "cell_type": "code",
      "metadata": {
        "id": "y-BD7qrNFTs4",
        "colab": {
          "base_uri": "https://localhost:8080/"
        },
        "outputId": "f088874d-fcb7-4e07-de35-64bb03684876"
      },
      "source": [
        "my1Darray = np.array([1, 2, 4, 9, 16, 25])\n",
        "\n",
        "print(\"The array 'my1Darray' is\", my1Darray)\n",
        "print(\"The type of 'my1Darray' is\", type(my1Darray))\n",
        "print(\"The array 'my1Darray' consists of elements of type\", my1Darray.dtype)\n",
        "print(\"The array 'my1Darray' has\", my1Darray.ndim, \"dimension\")\n",
        "print(\"The shape of 'my1Darray' is\", my1Darray.shape)"
      ],
      "execution_count": null,
      "outputs": [
        {
          "output_type": "stream",
          "name": "stdout",
          "text": [
            "The array 'my1Darray' is [ 1  2  4  9 16 25]\n",
            "The type of 'my1Darray' is <class 'numpy.ndarray'>\n",
            "The array 'my1Darray' consists of elements of type int64\n",
            "The array 'my1Darray' has 1 dimension\n",
            "The shape of 'my1Darray' is (6,)\n"
          ]
        }
      ]
    },
    {
      "cell_type": "markdown",
      "metadata": {
        "id": "uxWeg-0HGPTC"
      },
      "source": [
        "2D NumPy arrays, where values are arranged in rows and columns, can be created from lists of lists. Let's create a 2D NumPy array consisting of float elements arranged in 3 rows and 2 columns (3x2 array):"
      ]
    },
    {
      "cell_type": "code",
      "metadata": {
        "id": "DdSbA0RQGeUQ",
        "colab": {
          "base_uri": "https://localhost:8080/"
        },
        "outputId": "7f4d3226-2327-450f-fa63-1baea0bad47e"
      },
      "source": [
        "my2Darray = np.array([[1.1, 2.1], [3.0, 4.2], [5.2, 6.1]])\n",
        "\n",
        "print(\"The array 'my2Darray' is \\n\", my2Darray)\n",
        "print(\"The type of 'my2Darray' is\", type(my2Darray))\n",
        "print(\"The array 'my2Darray' consists of elements of type\", my2Darray.dtype)\n",
        "print(\"The array 'my2Darray' has\", my2Darray.ndim, \"dimensions\")\n",
        "print(\"The shape of 'my2Darray' is\", my2Darray.shape)"
      ],
      "execution_count": null,
      "outputs": [
        {
          "output_type": "stream",
          "name": "stdout",
          "text": [
            "The array 'my2Darray' is \n",
            " [[1.1 2.1]\n",
            " [3.  4.2]\n",
            " [5.2 6.1]]\n",
            "The type of 'my2Darray' is <class 'numpy.ndarray'>\n",
            "The array 'my2Darray' consists of elements of type float64\n",
            "The array 'my2Darray' has 2 dimensions\n",
            "The shape of 'my2Darray' is (3, 2)\n"
          ]
        }
      ]
    },
    {
      "cell_type": "markdown",
      "metadata": {
        "id": "m1nd2_2zHluV"
      },
      "source": [
        "There are many other useful functions that can be used to create NumPy arrays, for instance:"
      ]
    },
    {
      "cell_type": "code",
      "metadata": {
        "id": "r-t3WCzxHrUq",
        "colab": {
          "base_uri": "https://localhost:8080/"
        },
        "outputId": "6f97d3c1-68d2-4621-f638-1d5d1ef76753"
      },
      "source": [
        "a = np.linspace(0,1,11) # Array consisting 11 elements uniformly spaced, from 0 to 1\n",
        "print(\"'a' is \\n\", a, \"\\n and its shape is\", a.shape, \"\\n\")\n",
        "b = np.arange(0,20,2.5) # Array consisting of elements spaced by 2.5, from 0 to 20\n",
        "print(\"'b' is \\n\", b, \"\\n and its shape is\", b.shape, \"\\n\")\n",
        "c = np.zeros(5) # 1D Array consisting of 5 zeros\n",
        "print(\"'c' is \\n\", c, \"\\n and its shape is\", c.shape, \"\\n\")\n",
        "M = np.zeros((2,5)) # 2x5 (2 rows, 5 columns) array consisting of zeros\n",
        "print(\"'M' is \\n\", M, \"\\n and its shape is\", M.shape, \"\\n\")\n",
        "w = np.ones(7) # 1D array consisting of 7 ones\n",
        "print(\"'w' is \\n\", w, \"\\n and its shape is\", w.shape, \"\\n\")\n",
        "N = np.ones((3,2)) # 3x2 (3 rows, 2 columns) array consisting of ones\n",
        "print(\"'N' is \\n\", N, \"\\n and its shape is\", N.shape, \"\\n\")\n",
        "I = np.eye(4) # 4x4 array with ones on the diagonal and zeros elsewhere\n",
        "print(\"'I' is \\n\", I, \"\\n and its shape is\", I.shape, \"\\n\")\n",
        "R = np.random.rand(2,4) # 2x4 array of random values from a uniform distribution\n",
        "print(\"'R' is \\n\", R, \"\\n and its shape is\", R.shape, \"\\n\")\n"
      ],
      "execution_count": null,
      "outputs": [
        {
          "output_type": "stream",
          "name": "stdout",
          "text": [
            "'a' is \n",
            " [0.  0.1 0.2 0.3 0.4 0.5 0.6 0.7 0.8 0.9 1. ] \n",
            " and its shape is (11,) \n",
            "\n",
            "'b' is \n",
            " [ 0.   2.5  5.   7.5 10.  12.5 15.  17.5] \n",
            " and its shape is (8,) \n",
            "\n",
            "'c' is \n",
            " [0. 0. 0. 0. 0.] \n",
            " and its shape is (5,) \n",
            "\n",
            "'M' is \n",
            " [[0. 0. 0. 0. 0.]\n",
            " [0. 0. 0. 0. 0.]] \n",
            " and its shape is (2, 5) \n",
            "\n",
            "'w' is \n",
            " [1. 1. 1. 1. 1. 1. 1.] \n",
            " and its shape is (7,) \n",
            "\n",
            "'N' is \n",
            " [[1. 1.]\n",
            " [1. 1.]\n",
            " [1. 1.]] \n",
            " and its shape is (3, 2) \n",
            "\n",
            "'I' is \n",
            " [[1. 0. 0. 0.]\n",
            " [0. 1. 0. 0.]\n",
            " [0. 0. 1. 0.]\n",
            " [0. 0. 0. 1.]] \n",
            " and its shape is (4, 4) \n",
            "\n",
            "'R' is \n",
            " [[0.25292494 0.6851534  0.96301893 0.73593398]\n",
            " [0.20201213 0.48111302 0.22670948 0.59693502]] \n",
            " and its shape is (2, 4) \n",
            "\n"
          ]
        }
      ]
    },
    {
      "cell_type": "markdown",
      "metadata": {
        "id": "brMxpnQl0oFX"
      },
      "source": [
        "NumPy arrays can be **indexed** and **sliced** just like standard Python lists. Let's create a 2D 4x4 array and explore indexing and slicing:"
      ]
    },
    {
      "cell_type": "code",
      "metadata": {
        "id": "AaFWPKri12qg",
        "colab": {
          "base_uri": "https://localhost:8080/"
        },
        "outputId": "0eec5b37-f111-4478-c95f-76c0288d43cb"
      },
      "source": [
        "M = np.array([[1, 2, 3, 4], [5, 6, 7, 8], [9, 10, 11, 12], [13, 14, 15, 16]])\n",
        "print(\"The NumPy array M is:\\n\", M)\n",
        "print(\"\\nThe second row of M is:\\n\", M[1])\n",
        "print(\"\\nThe entry at the first row third column is:\\n\", M[0,2])\n",
        "print(\"\\nThis is a subarray of M:\\n\", M[1:3,1:3])\n",
        "print(\"\\nThe first two rows of M are:\\n\", M[0:2,:])"
      ],
      "execution_count": null,
      "outputs": [
        {
          "output_type": "stream",
          "name": "stdout",
          "text": [
            "The NumPy array M is:\n",
            " [[ 1  2  3  4]\n",
            " [ 5  6  7  8]\n",
            " [ 9 10 11 12]\n",
            " [13 14 15 16]]\n",
            "\n",
            "The second row of M is:\n",
            " [5 6 7 8]\n",
            "\n",
            "The entry at the first row third column is:\n",
            " 3\n",
            "\n",
            "This is a subarray of M:\n",
            " [[ 6  7]\n",
            " [10 11]]\n",
            "\n",
            "The first two rows of M are:\n",
            " [[1 2 3 4]\n",
            " [5 6 7 8]]\n"
          ]
        }
      ]
    },
    {
      "cell_type": "markdown",
      "metadata": {
        "id": "RFacYWlSJObE"
      },
      "source": [
        "Numpy arrays can also be saved to and created from a file. The standard file format for storing NumPy arrays on disk is `.npy`, although other formats such as CSV can be used too.\n",
        "\n",
        "We will now explore how to use NumPy to represent complex datasets. After uploading the file `myDigitsDataset.npy` to your runtime, run the cell below to load the dataset into a NumPy array and read some basic info about it."
      ]
    },
    {
      "cell_type": "code",
      "metadata": {
        "id": "1CDf67cMtCq6",
        "colab": {
          "base_uri": "https://localhost:8080/"
        },
        "outputId": "dbce3141-63ff-4b5c-ff42-806956986c5c"
      },
      "source": [
        "myDigits = np.load('myDigitsDataset.npy')\n",
        "print(\"The type of 'myDigits' is\", type(myDigits))\n",
        "print(\"The array 'myDigits' consists of elements of type\", myDigits.dtype)\n",
        "print(\"The array 'myDigits' has\", myDigits.ndim, \"dimensions\")\n",
        "print(\"The shape of 'myDigits' is\", myDigits.shape)"
      ],
      "execution_count": null,
      "outputs": [
        {
          "output_type": "stream",
          "name": "stdout",
          "text": [
            "The type of 'myDigits' is <class 'numpy.ndarray'>\n",
            "The array 'myDigits' consists of elements of type int64\n",
            "The array 'myDigits' has 3 dimensions\n",
            "The shape of 'myDigits' is (10, 28, 28)\n"
          ]
        }
      ]
    },
    {
      "cell_type": "code",
      "source": [],
      "metadata": {
        "id": "tebamQakPedA"
      },
      "execution_count": null,
      "outputs": []
    },
    {
      "cell_type": "markdown",
      "metadata": {
        "id": "ZCnmx9S19Q6u"
      },
      "source": [
        "The `myDigits` NumPy array is an example of a 3-tensor. It consists of 10 items described by 28x28 attributes. You can see it as 10 different 28x28 2D arrays stacked together. Let's print the third (index 2) item:"
      ]
    },
    {
      "cell_type": "code",
      "metadata": {
        "id": "Tes9DVGKsnnx",
        "colab": {
          "base_uri": "https://localhost:8080/"
        },
        "outputId": "3e3919d3-0c6f-4d53-faae-865b87b53478"
      },
      "source": [
        "myThirdDigit = myDigits[2,:,:]\n",
        "print(\"The shape of my 3rd item is:\", myThirdDigit.shape)\n",
        "print(\"\\nMy 3rd item is:\\n\", myThirdDigit)"
      ],
      "execution_count": null,
      "outputs": [
        {
          "output_type": "stream",
          "name": "stdout",
          "text": [
            "The shape of my 3rd item is: (28, 28)\n",
            "\n",
            "My 3rd item is:\n",
            " [[7 7 7 7 7 7 7 7 7 7 7 7 7 7 7 7 7 7 7 7 7 7 7 7 7 7 7 7]\n",
            " [7 7 7 7 7 7 7 7 7 7 7 7 7 7 7 7 7 7 7 7 7 7 7 7 7 7 7 7]\n",
            " [7 7 7 7 7 7 7 7 7 7 7 7 7 7 7 7 7 7 7 7 7 7 7 7 7 7 7 7]\n",
            " [7 7 7 7 7 7 7 7 7 7 7 7 7 7 7 7 7 7 7 7 7 7 7 7 7 7 7 7]\n",
            " [7 7 7 7 7 7 7 7 7 7 7 7 7 7 7 7 7 7 7 7 7 7 7 7 7 7 7 7]\n",
            " [7 7 7 7 7 7 7 7 7 7 7 7 7 7 7 7 7 7 7 7 0 0 0 7 7 7 7 7]\n",
            " [7 7 7 7 0 0 7 7 7 7 7 7 7 7 7 7 7 7 7 7 0 0 0 7 7 7 7 7]\n",
            " [7 7 7 7 0 0 7 7 7 7 7 7 7 7 7 7 7 7 7 0 0 0 0 7 7 7 7 7]\n",
            " [7 7 7 7 0 0 7 7 7 7 7 7 7 7 7 7 7 7 7 0 0 0 7 7 7 7 7 7]\n",
            " [7 7 7 7 0 0 7 7 7 7 7 7 7 7 7 7 7 7 7 0 0 0 7 7 7 7 7 7]\n",
            " [7 7 7 0 0 0 7 7 7 7 7 7 7 7 7 7 7 7 7 0 0 0 7 7 7 7 7 7]\n",
            " [7 7 7 0 0 0 7 7 7 7 7 7 7 7 7 7 7 7 0 0 0 0 7 7 7 7 7 7]\n",
            " [7 7 7 0 0 0 7 7 7 7 7 7 7 7 7 7 7 7 0 0 0 0 7 7 7 7 7 7]\n",
            " [7 7 7 0 0 0 7 7 7 7 7 7 7 7 7 0 0 0 0 0 0 7 7 7 7 7 7 7]\n",
            " [7 7 7 0 0 0 7 7 7 0 0 0 0 0 0 0 0 0 0 0 0 7 7 7 7 7 7 7]\n",
            " [7 7 7 0 0 0 0 0 0 0 0 0 0 0 0 0 0 0 0 0 7 7 7 7 7 7 7 7]\n",
            " [7 7 7 7 0 0 0 0 0 0 0 0 7 7 7 7 7 0 0 0 7 7 7 7 7 7 7 7]\n",
            " [7 7 7 7 7 7 7 7 7 7 7 7 7 7 7 7 7 0 0 0 7 7 7 7 7 7 7 7]\n",
            " [7 7 7 7 7 7 7 7 7 7 7 7 7 7 7 7 7 0 0 0 7 7 7 7 7 7 7 7]\n",
            " [7 7 7 7 7 7 7 7 7 7 7 7 7 7 7 7 7 0 0 0 7 7 7 7 7 7 7 7]\n",
            " [7 7 7 7 7 7 7 7 7 7 7 7 7 7 7 7 7 0 0 0 7 7 7 7 7 7 7 7]\n",
            " [7 7 7 7 7 7 7 7 7 7 7 7 7 7 7 7 7 0 0 0 7 7 7 7 7 7 7 7]\n",
            " [7 7 7 7 7 7 7 7 7 7 7 7 7 7 7 7 7 0 0 0 7 7 7 7 7 7 7 7]\n",
            " [7 7 7 7 7 7 7 7 7 7 7 7 7 7 7 7 7 0 0 0 7 7 7 7 7 7 7 7]\n",
            " [7 7 7 7 7 7 7 7 7 7 7 7 7 7 7 7 7 0 0 0 7 7 7 7 7 7 7 7]\n",
            " [7 7 7 7 7 7 7 7 7 7 7 7 7 7 7 7 7 7 7 7 7 7 7 7 7 7 7 7]\n",
            " [7 7 7 7 7 7 7 7 7 7 7 7 7 7 7 7 7 7 7 7 7 7 7 7 7 7 7 7]\n",
            " [7 7 7 7 7 7 7 7 7 7 7 7 7 7 7 7 7 7 7 7 7 7 7 7 7 7 7 7]]\n"
          ]
        }
      ]
    },
    {
      "cell_type": "code",
      "source": [
        "myEighthDigit = myDigits[7,:,:]\n",
        "print(\"\\nMy 8th item is:\\n\", myEighthDigit)"
      ],
      "metadata": {
        "colab": {
          "base_uri": "https://localhost:8080/"
        },
        "id": "xylBoGdlPw9h",
        "outputId": "94fed4c1-482e-4f60-dcd6-5d4b06e2fe1a"
      },
      "execution_count": null,
      "outputs": [
        {
          "output_type": "stream",
          "name": "stdout",
          "text": [
            "\n",
            "My 8th item is:\n",
            " [[7 7 7 7 7 7 7 7 7 7 7 7 7 7 7 7 7 7 7 7 7 7 7 7 7 7 7 7]\n",
            " [7 7 7 7 7 7 7 7 7 7 7 7 7 7 7 7 7 7 7 7 7 7 7 7 7 7 7 7]\n",
            " [7 7 7 7 7 7 7 7 7 7 7 7 7 7 7 7 7 7 7 7 7 7 7 7 7 7 7 7]\n",
            " [7 7 7 7 7 7 7 7 7 7 7 7 7 7 7 7 7 7 7 7 7 7 7 7 7 7 7 7]\n",
            " [7 7 7 7 7 7 7 7 7 7 7 7 7 7 7 7 7 7 7 7 7 7 7 7 7 7 7 7]\n",
            " [7 7 7 7 7 7 7 7 7 7 7 0 0 0 0 0 0 0 0 0 0 0 7 7 7 7 7 7]\n",
            " [7 7 7 7 7 7 7 7 7 0 0 0 0 0 0 0 0 0 0 0 0 0 0 7 7 7 7 7]\n",
            " [7 7 7 7 7 7 7 7 7 0 0 0 0 0 0 0 0 0 0 0 0 0 0 7 7 7 7 7]\n",
            " [7 7 7 7 7 7 7 7 7 0 0 0 0 0 0 0 0 0 0 0 0 0 0 7 7 7 7 7]\n",
            " [7 7 7 7 7 7 7 7 7 0 0 0 0 7 7 7 7 0 0 0 0 0 0 7 7 7 7 7]\n",
            " [7 7 7 7 7 7 7 7 7 7 7 7 7 7 7 7 7 0 0 0 0 0 7 7 7 7 7 7]\n",
            " [7 7 7 7 7 7 7 7 7 7 7 7 7 7 7 7 0 0 0 0 0 0 7 7 7 7 7 7]\n",
            " [7 7 7 7 7 7 7 7 7 7 7 7 7 7 0 0 0 0 0 0 0 0 7 7 7 7 7 7]\n",
            " [7 7 7 7 7 7 7 7 7 0 0 0 0 0 0 0 0 0 0 0 0 7 7 7 7 7 7 7]\n",
            " [7 7 7 7 7 7 7 7 0 0 0 0 0 0 0 0 0 0 0 7 7 7 7 7 7 7 7 7]\n",
            " [7 7 7 7 7 7 7 7 0 0 0 0 0 0 0 0 0 0 0 0 7 7 7 7 7 7 7 7]\n",
            " [7 7 7 7 7 7 7 7 7 0 0 0 0 0 0 0 0 0 0 0 7 7 7 7 7 7 7 7]\n",
            " [7 7 7 7 7 7 7 7 7 7 7 7 7 7 7 7 0 0 0 0 7 7 7 7 7 7 7 7]\n",
            " [7 7 7 7 7 7 7 7 7 7 7 7 7 7 7 7 0 0 0 0 7 7 7 7 7 7 7 7]\n",
            " [7 7 7 7 7 7 0 0 0 7 7 7 7 7 7 0 0 0 0 0 7 7 7 7 7 7 7 7]\n",
            " [7 7 7 7 7 0 0 0 0 7 7 7 7 0 0 0 0 0 0 0 7 7 7 7 7 7 7 7]\n",
            " [7 7 7 7 7 0 0 0 0 0 0 0 0 0 0 0 0 0 0 7 7 7 7 7 7 7 7 7]\n",
            " [7 7 7 7 7 0 0 0 0 0 0 0 0 0 0 0 0 0 7 7 7 7 7 7 7 7 7 7]\n",
            " [7 7 7 7 7 0 0 0 0 0 0 0 0 0 0 0 7 7 7 7 7 7 7 7 7 7 7 7]\n",
            " [7 7 7 7 7 7 0 0 0 0 0 0 0 7 7 7 7 7 7 7 7 7 7 7 7 7 7 7]\n",
            " [7 7 7 7 7 7 7 7 7 7 7 7 7 7 7 7 7 7 7 7 7 7 7 7 7 7 7 7]\n",
            " [7 7 7 7 7 7 7 7 7 7 7 7 7 7 7 7 7 7 7 7 7 7 7 7 7 7 7 7]\n",
            " [7 7 7 7 7 7 7 7 7 7 7 7 7 7 7 7 7 7 7 7 7 7 7 7 7 7 7 7]]\n"
          ]
        }
      ]
    },
    {
      "cell_type": "markdown",
      "metadata": {
        "id": "5pvwQe_qlnt3"
      },
      "source": [
        "Do you see anything? Does it look like the number 4? Let's use the visualisation library matplotlib to plot the array:"
      ]
    },
    {
      "cell_type": "code",
      "metadata": {
        "id": "HbBGaecdvhDh",
        "colab": {
          "base_uri": "https://localhost:8080/",
          "height": 430
        },
        "outputId": "8c239957-58e3-4555-920a-a347374a9a12"
      },
      "source": [
        "import matplotlib.pyplot as plt\n",
        "plt.imshow(myThirdDigit)\n",
        "plt.show()"
      ],
      "execution_count": null,
      "outputs": [
        {
          "output_type": "display_data",
          "data": {
            "text/plain": [
              "<Figure size 640x480 with 1 Axes>"
            ],
            "image/png": "[encoded data removed]"
          },
          "metadata": {}
        }
      ]
    },
    {
      "cell_type": "markdown",
      "metadata": {
        "id": "fQHy-707--2K"
      },
      "source": [
        "It is indeed a picture representing the digit \"4\". Our small dataset is based on the well-known [MNIST](http://yann.lecun.com/exdb/mnist/) dataset, which consists of 70,000 gray scale 28x28 images of handwritten digits. Instead of gray scale images, where each entry (pixel) can take any value within a continuous range (for instance 0 and 1), we have pictures where pixels can take up only two values, namely 0 and 7. There is nothing special about these two values, what is relevant is that the pattern displayed depends on which pixels take which value.\n",
        "\n",
        "Pictures are an example of grid data, i.e. complex data consisting of multiple values associated to a grid. Audio clips are also examples of grid data, where the grid is 1D (the time axis)."
      ]
    },
    {
      "cell_type": "markdown",
      "metadata": {
        "id": "RGZMT9oquCcT"
      },
      "source": [
        "# Pandas\n",
        "\n",
        "Although briefly, we have already seen Pandas. Pandas is a specialised library that provides data structures to represent sequences (known as **Series**) and tables (known as **DataFrames**). You can think of a Pandas DataFrame as a 2D table where each column is a 1D Pandas Series. In fact, when you extract one single column from a DataFrame, the data type that you obtain is a Series.\n",
        "\n",
        "In contrast to NumPy arrays, which are homogeneous (i.e. all the elements in the array must be of the same type), Pandas tabular structures support heterogenous columns (i.e. only the elements within a column are required to be of the same type).\n",
        "\n",
        "Before using pandas we need to import it."
      ]
    },
    {
      "cell_type": "code",
      "metadata": {
        "id": "IbN0VZKTpAY8"
      },
      "source": [
        "import pandas as pd"
      ],
      "execution_count": null,
      "outputs": []
    },
    {
      "cell_type": "markdown",
      "metadata": {
        "id": "dPSLEpcrpOzT"
      },
      "source": [
        "There are several ways to create Pandas Series and DataFrames, for instance by passing a standard Python list or a NumPy array, as shown in the following examples:"
      ]
    },
    {
      "cell_type": "code",
      "metadata": {
        "id": "NWmNGVM2pZQP",
        "colab": {
          "base_uri": "https://localhost:8080/"
        },
        "outputId": "7e0f0934-2716-4da9-ef1d-a358d36c58f0"
      },
      "source": [
        "s = pd.Series([1, 2, 4, 9, 16, 25])\n",
        "df = pd.DataFrame(np.random.randn(10, 10))\n",
        "\n",
        "print(\"The Series s is:\\n\", s)\n",
        "\n",
        "print(\"\\nThe DataFrame df is:\\n\",df)\n",
        "\n",
        "print(\"\\nThe first two rows of the DataFrame df are:\\n\", df.head(2))\n",
        "\n",
        "print(\"\\nThe last two rows of the DataFrame df are:\\n\",df.tail(2))\n",
        "\n"
      ],
      "execution_count": null,
      "outputs": [
        {
          "output_type": "stream",
          "name": "stdout",
          "text": [
            "The Series s is:\n",
            " 0     1\n",
            "1     2\n",
            "2     4\n",
            "3     9\n",
            "4    16\n",
            "5    25\n",
            "dtype: int64\n",
            "\n",
            "The DataFrame df is:\n",
            "           0         1         2         3         4         5         6  \\\n",
            "0  1.037127 -0.022526 -2.148497  0.032495 -0.548569 -0.358457 -0.428566   \n",
            "1  0.404776  0.205396 -1.713850  0.824271 -0.055252  0.218270  0.483833   \n",
            "2 -0.045886 -0.612349 -1.473356 -0.489091  1.524473 -0.211267 -0.571553   \n",
            "3  1.151956 -0.790323  0.980255 -0.011584  1.924925  0.851904  1.170829   \n",
            "4 -0.978069  1.085283  0.785163  0.806714  2.056111  0.977330 -1.010331   \n",
            "5 -0.314575  0.109989 -0.528477 -0.423660  1.140912 -0.079675  0.263070   \n",
            "6 -0.760752  0.510853 -1.629166  0.033556 -0.245249  0.331855  0.627552   \n",
            "7 -1.754039 -1.122180  0.482527 -1.070794 -0.181955 -0.052992 -1.176680   \n",
            "8  0.739364  0.212465 -0.599918 -0.540560  0.165797  0.991490  1.012997   \n",
            "9 -0.245721  0.955966 -0.610057  1.116260  0.498652 -1.013091  0.434468   \n",
            "\n",
            "          7         8         9  \n",
            "0 -0.316687 -1.612353  0.467614  \n",
            "1 -0.269046  0.167221  0.651657  \n",
            "2 -0.402542 -1.427120 -1.409484  \n",
            "3 -1.459904  0.123102  0.583190  \n",
            "4 -0.859631 -0.559403 -1.834735  \n",
            "5 -0.595643 -1.698150 -1.464627  \n",
            "6 -1.230326  0.919357 -0.910178  \n",
            "7 -0.870244  0.922931 -0.431998  \n",
            "8 -0.924677 -0.462773  0.600181  \n",
            "9  0.060984  0.942875  0.825728  \n",
            "\n",
            "The first two rows of the DataFrame df are:\n",
            "           0         1         2         3         4         5         6  \\\n",
            "0  1.037127 -0.022526 -2.148497  0.032495 -0.548569 -0.358457 -0.428566   \n",
            "1  0.404776  0.205396 -1.713850  0.824271 -0.055252  0.218270  0.483833   \n",
            "\n",
            "          7         8         9  \n",
            "0 -0.316687 -1.612353  0.467614  \n",
            "1 -0.269046  0.167221  0.651657  \n",
            "\n",
            "The last two rows of the DataFrame df are:\n",
            "           0         1         2        3         4         5         6  \\\n",
            "8  0.739364  0.212465 -0.599918 -0.54056  0.165797  0.991490  1.012997   \n",
            "9 -0.245721  0.955966 -0.610057  1.11626  0.498652 -1.013091  0.434468   \n",
            "\n",
            "          7         8         9  \n",
            "8 -0.924677 -0.462773  0.600181  \n",
            "9  0.060984  0.942875  0.825728  \n"
          ]
        }
      ]
    },
    {
      "cell_type": "markdown",
      "metadata": {
        "id": "D2maZnkKqIWI"
      },
      "source": [
        "The indices are also shown when we plot a Pandas Series or DataFrame. They are the integer values on the left-most column and also at the top of the DataFrame. Optionally, we can use our own labels to identify rows (`index` argument) and columns (`columns` argument):"
      ]
    },
    {
      "cell_type": "code",
      "metadata": {
        "id": "VA3r-562q_x3",
        "colab": {
          "base_uri": "https://localhost:8080/"
        },
        "outputId": "73a5e0fe-2f72-44a4-c22a-ae032c5f48d5"
      },
      "source": [
        "df = pd.DataFrame(np.random.randint(1,100,[4, 4]), index=[\"r1\", \"r2\", \"r3\", \"r4\"], columns=[\"c1\", \"c2\", \"c3\", \"c4\"])\n",
        "print(\"The DataFrame df is:\\n\", df)\n",
        "\n",
        "print(\"\\nThe row labels are:\", df.index)\n",
        "print(\"\\nThe columns labels are:\",df.columns)\n"
      ],
      "execution_count": null,
      "outputs": [
        {
          "output_type": "stream",
          "name": "stdout",
          "text": [
            "The DataFrame df is:\n",
            "     c1  c2  c3  c4\n",
            "r1  50  65  38  76\n",
            "r2  96   6  42  58\n",
            "r3  74  62  99  33\n",
            "r4  97  35  33  33\n",
            "\n",
            "The row labels are: Index(['r1', 'r2', 'r3', 'r4'], dtype='object')\n",
            "\n",
            "The columns labels are: Index(['c1', 'c2', 'c3', 'c4'], dtype='object')\n"
          ]
        }
      ]
    },
    {
      "cell_type": "markdown",
      "metadata": {
        "id": "2zgbkoyWtHqP"
      },
      "source": [
        "Individual columns in a DataFrame can be extracted using the column labels:"
      ]
    },
    {
      "cell_type": "code",
      "metadata": {
        "id": "1On9ePl_wF-2",
        "colab": {
          "base_uri": "https://localhost:8080/"
        },
        "outputId": "fcc66529-5403-475e-f154-a9ef522344bd"
      },
      "source": [
        "df_c1 = df[\"c1\"]\n",
        "print(\"The column c1 of the DataFrame df is \\n\", df_c1)\n",
        "\n",
        "df_c2c4 = df[[\"c2\",\"c4\"]]\n",
        "print(\"\\nThe columns c2 and c4 of the DataFrame df are \\n\", df_c2c4)"
      ],
      "execution_count": null,
      "outputs": [
        {
          "output_type": "stream",
          "name": "stdout",
          "text": [
            "The column c1 of the DataFrame df is \n",
            " r1    50\n",
            "r2    96\n",
            "r3    74\n",
            "r4    97\n",
            "Name: c1, dtype: int64\n",
            "\n",
            "The columns c2 and c4 of the DataFrame df are \n",
            "     c2  c4\n",
            "r1  65  76\n",
            "r2   6  58\n",
            "r3  62  33\n",
            "r4  35  33\n"
          ]
        }
      ]
    },
    {
      "cell_type": "markdown",
      "metadata": {
        "id": "G9P2y4Q4R8ng"
      },
      "source": [
        "Rows can be extracted with `loc` and `iloc`. `loc` uses the row label, whereas `iloc` uses the row integer index:\n"
      ]
    },
    {
      "cell_type": "code",
      "metadata": {
        "id": "_-JoB-_wxHAZ",
        "colab": {
          "base_uri": "https://localhost:8080/"
        },
        "outputId": "916fa8f0-5a24-42e7-ae7a-a5e13ee7918a"
      },
      "source": [
        "df_r1r2 = df.loc[[\"r1\",\"r3\"]]\n",
        "print(\"The rows r1 and r3 of the DataFrame df are \\n\", df_r1r2)\n",
        "\n",
        "df_02 = df.iloc[[0,2]]\n",
        "print(\"\\nThe first and third rows of the DataFrame df are \\n\", df_02)\n"
      ],
      "execution_count": null,
      "outputs": [
        {
          "output_type": "stream",
          "name": "stdout",
          "text": [
            "The rows r1 and r3 of the DataFrame df are \n",
            "     c1  c2  c3  c4\n",
            "r1  50  65  38  76\n",
            "r3  74  62  99  33\n",
            "\n",
            "The first and third rows of the DataFrame df are \n",
            "     c1  c2  c3  c4\n",
            "r1  50  65  38  76\n",
            "r3  74  62  99  33\n"
          ]
        }
      ]
    },
    {
      "cell_type": "markdown",
      "metadata": {
        "id": "u6jTktskShpO"
      },
      "source": [
        "Same result!\n",
        "\n",
        "Finally, `iat` allows us to operate on individual entries:"
      ]
    },
    {
      "cell_type": "code",
      "metadata": {
        "id": "NMP-ify5yK5x",
        "colab": {
          "base_uri": "https://localhost:8080/"
        },
        "outputId": "f9202bf0-5e4e-4512-afc5-5b959b63c2ea"
      },
      "source": [
        "print(\"The entry with indices (2,3) is:\", df.iat[2,3])\n",
        "\n",
        "df.iat[2,3]=1000 #We now update the entry in the third rwo, fourth column\n",
        "print(\"\\nThe updated DataFrame df is:\\n\", df)\n",
        "print(\"\\nThe entry with indices (2,3) is now:\", df.iat[2,3])\n"
      ],
      "execution_count": null,
      "outputs": [
        {
          "output_type": "stream",
          "name": "stdout",
          "text": [
            "The entry with indices (2,3) is: 33\n",
            "\n",
            "The updated DataFrame df is:\n",
            "     c1  c2  c3    c4\n",
            "r1  50  65  38    76\n",
            "r2  96   6  42    58\n",
            "r3  74  62  99  1000\n",
            "r4  97  35  33    33\n",
            "\n",
            "The entry with indices (2,3) is now: 1000\n"
          ]
        }
      ]
    },
    {
      "cell_type": "markdown",
      "metadata": {
        "id": "0Lr-A1C1TG3f"
      },
      "source": [
        "# Summary\n",
        "\n",
        "In this lab, we have explored several options to represent data and datasets in Python, including:\n",
        "- Basic numeric, boolean and string types\n",
        "- Standard lists\n",
        "- Numpy arrays\n",
        "- Pandas Series and DataFrames\n",
        "\n",
        "In general, NumPy arrays will be our preferred choice to represent complex data on a grid (such as time series and pictures) and homogeneous datasets, where all the attributes are of the same type. Pandas dataframes will be useful to represent heterogeneous datasets, where different attributes can have different types. There are additional subtleties, which you will learn as you develop your machine learning skills.\n",
        "\n",
        "Go ahead and attempt the QM+ quiz. You will need to use the npy file `myDigitsDataset.npy` and the CSV file `LondonCars2014.csv`. The code cell below shows how to load the above CSV file into a dataframe and displays some basic information about it (remember that you need to upload the CSV file first!).\n"
      ]
    },
    {
      "cell_type": "code",
      "metadata": {
        "id": "AQhgILBZjzkC",
        "colab": {
          "base_uri": "https://localhost:8080/"
        },
        "outputId": "5265e4dd-3727-41c3-f68a-4c2815dceff9"
      },
      "source": [
        "df_cars = pd.read_csv('./LondonCars2014.csv')\n",
        "df_cars.info()"
      ],
      "execution_count": null,
      "outputs": [
        {
          "output_type": "stream",
          "name": "stdout",
          "text": [
            "<class 'pandas.core.frame.DataFrame'>\n",
            "RangeIndex: 9080 entries, 0 to 9079\n",
            "Data columns (total 11 columns):\n",
            " #   Column        Non-Null Count  Dtype \n",
            "---  ------        --------------  ----- \n",
            " 0   Make          9080 non-null   object\n",
            " 1   Model         9080 non-null   object\n",
            " 2   Year          9080 non-null   int64 \n",
            " 3   Mileage       9080 non-null   int64 \n",
            " 4   Price         9080 non-null   int64 \n",
            " 5   Body Style    9080 non-null   object\n",
            " 6   Ex Color      9080 non-null   object\n",
            " 7   In Color      9080 non-null   object\n",
            " 8   Engine        9080 non-null   object\n",
            " 9   Transmission  9080 non-null   object\n",
            " 10  Doors         9080 non-null   int64 \n",
            "dtypes: int64(4), object(7)\n",
            "memory usage: 780.4+ KB\n"
          ]
        }
      ]
    },
    {
      "cell_type": "code",
      "source": [
        "print(\"The price of the car in the row with index 4321 is:\", df_cars.iat[4321,4])"
      ],
      "metadata": {
        "colab": {
          "base_uri": "https://localhost:8080/"
        },
        "id": "_BuIQn51QuXi",
        "outputId": "289b242f-f52e-4a6c-be22-f6e11ecd3118"
      },
      "execution_count": null,
      "outputs": [
        {
          "output_type": "stream",
          "name": "stdout",
          "text": [
            "The price of the car in the row with index 4321 is: 16995\n"
          ]
        }
      ]
    }
  ]
}